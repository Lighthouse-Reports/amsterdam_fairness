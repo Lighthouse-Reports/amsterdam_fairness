{
 "cells": [
  {
   "cell_type": "code",
   "execution_count": null,
   "metadata": {},
   "outputs": [],
   "source": [
    "import numpy as np\n",
    "import pandas as pd\n",
    "import datetime as dt\n",
    "import joblib\n",
    "from collections import defaultdict\n",
    "import json\n",
    "import datetime as dt\n",
    "from pathlib import Path\n",
    "import os\n",
    "\n",
    "# To display BSNs fully\n",
    "pd.set_option(\"display.max_colwidth\", 1000)\n",
    "\n",
    "# For convenience\n",
    "pd.set_option('display.max_rows', 50)\n",
    "pd.set_option('display.max_columns', 50)\n",
    "\n",
    "import logging\n",
    "logger = logging.getLogger()\n",
    "logger.setLevel(logging.INFO)"
   ]
  },
  {
   "cell_type": "code",
   "execution_count": null,
   "metadata": {},
   "outputs": [],
   "source": [
    "from wpi_uitkeringsfraude.project_paths import ARTIFACT_PATH, DATA_PATH, CONFIG_PATH, INFO_PATH\n",
    "from wpi_uitkeringsfraude.model.manage_model_info import load_feature_list\n",
    "# from wpi_uitkeringsfraude.model.build_model import filter_application_handling\n",
    "from wpi_uitkeringsfraude.settings.settings import WPISettings\n",
    "# from wpi_uitkeringsfraude.components import SocratesDienstPersoonJoin, SocratesAdresFeatures\n",
    "from wpi_uitkeringsfraude.scorer import Scorer"
   ]
  },
  {
   "cell_type": "code",
   "execution_count": null,
   "metadata": {},
   "outputs": [],
   "source": [
    "import os\n",
    "import sys\n",
    "module_path = os.path.abspath(os.path.join('..'))\n",
    "if module_path not in sys.path:\n",
    "    sys.path.append(module_path)"
   ]
  },
  {
   "cell_type": "code",
   "execution_count": null,
   "metadata": {},
   "outputs": [],
   "source": [
    "# set the max columns to none\n",
    "pd.set_option('display.max_columns', None)"
   ]
  },
  {
   "cell_type": "code",
   "execution_count": null,
   "metadata": {},
   "outputs": [],
   "source": [
    "# Read base pre-pilot data file\n",
    "df_prepilot = pd.read_excel(\"\\data\\pre-pilot\\2022.05.23_Merged_pre-pilot_templates.xlsx\", header = 1)\n",
    "df_prepilot_bias = pd.read_csv(\"\\data\\pre-pilot\\20220523_data_for_bias_analysis.csv\")\n",
    "# df_prepilot_data = pd.read_excel(\"\\data\\pre-pilot\\pre_pilot_data.xlsx\")"
   ]
  },
  {
   "cell_type": "code",
   "execution_count": null,
   "metadata": {},
   "outputs": [],
   "source": [
    "for df in [df_prepilot, df_prepilot_bias]:\n",
    "    print(df.shape)\n",
    "    display(df.head())"
   ]
  },
  {
   "cell_type": "markdown",
   "metadata": {},
   "source": [
    "### Preprocess"
   ]
  },
  {
   "cell_type": "code",
   "execution_count": null,
   "metadata": {},
   "outputs": [],
   "source": [
    "# df_prepilot_bias.loc[df_prepilot_bias['srp_id'].isin(srp_id_onderzoekswaardig), 'onderzoekswaardig'] = 1\n",
    "\n",
    "# # We want all of the is_onderzoek_hh ones for the analysis\n",
    "# df_prepilot_bias_hh = df_prepilot_bias.loc[~(df_prepilot_bias['srp_id'].isna())\n",
    "#                     #  & (df_prepilot_bias['is_screening_hh'] == False) \n",
    "#                      ]"
   ]
  },
  {
   "cell_type": "code",
   "execution_count": null,
   "metadata": {},
   "outputs": [],
   "source": [
    "# We want all of the is_onderzoek_hh ones for the analysis\n",
    "df_prepilot_bias_hh = df_prepilot_bias.loc[ (df_prepilot_bias['is_onderzoek_hh'] == True)\n",
    "                    #  & (df_prepilot_bias['is_screening_hh'] == False) \n",
    "                     ]"
   ]
  },
  {
   "cell_type": "code",
   "execution_count": null,
   "metadata": {},
   "outputs": [],
   "source": [
    "# We want onderzoekswaardig to be differently mapped\n",
    "dict_map_onderzoekswaardig = {'Onderzoekswaardig' : 1,\n",
    "                              'Niet onderzoekswaardig' : 0}\n",
    "\n",
    "df_prepilot['onderzoekswaardig'] = df_prepilot['Label'].replace(dict_map_onderzoekswaardig)"
   ]
  },
  {
   "cell_type": "markdown",
   "metadata": {},
   "source": [
    "### Merge datasets"
   ]
  },
  {
   "cell_type": "code",
   "execution_count": null,
   "metadata": {},
   "outputs": [],
   "source": [
    "df_prepilot_merged = pd.merge(df_prepilot, df_prepilot_bias, \n",
    "         left_on = 'Dienstnummer',\n",
    "         right_on = 'application_dienstnr',\n",
    "         how='left')"
   ]
  },
  {
   "cell_type": "code",
   "execution_count": null,
   "metadata": {},
   "outputs": [],
   "source": [
    "df_prepilot_merged['onderzoekswaardig'] = df_prepilot_merged['onderzoekswaardig_x']"
   ]
  },
  {
   "cell_type": "code",
   "execution_count": null,
   "metadata": {},
   "outputs": [],
   "source": [
    "df_prepilot_merged = pd.concat([df_prepilot_merged, df_prepilot_bias_hh])"
   ]
  },
  {
   "cell_type": "code",
   "execution_count": null,
   "metadata": {},
   "outputs": [],
   "source": [
    "df_prepilot_merged['onderzoekswaardig'].value_counts()"
   ]
  },
  {
   "cell_type": "code",
   "execution_count": null,
   "metadata": {},
   "outputs": [],
   "source": [
    "df_prepilot_merged['Label'] = df_prepilot_merged['onderzoekswaardig']"
   ]
  },
  {
   "cell_type": "code",
   "execution_count": null,
   "metadata": {},
   "outputs": [],
   "source": [
    "import numpy as np\n",
    "import pandas as pd\n",
    "from sklearn.model_selection import train_test_split\n",
    "from sklearn.metrics import roc_auc_score\n",
    "\n",
    "from interpret.glassbox import ExplainableBoostingClassifier\n",
    "from interpret import show\n",
    "\n",
    "# df_training = df_training.sort_values(by='dtaanvraag')\n",
    "\n",
    "X = df_prepilot_merged.loc[:, df_prepilot_merged.columns != 'onderzoekswaardig']\n",
    "y = df_prepilot_merged['onderzoekswaardig']\n",
    "\n",
    "seed = 42\n",
    "# np.random.seed(seed)\n",
    "X_test, y_test = X, y\n",
    "# X_train, X_test, y_train, y_test = train_test_split(X, y, test_size=0.15, shuffle=True, random_state=seed)\n",
    "# Load models\n",
    "model_file_prepilot = Path('\\Models\\20220523_model_used_in_prepilot.pkl')\n",
    "model_file_pilot = Path('\\Models\\20240228_wpi_model_pilot_31.pkl')\n",
    "models = {'model_before_reweighing':model_file_prepilot,\n",
    "          'model_after_reweighing': model_file_pilot}\n",
    "# Set threshold\n",
    "thr=0.63\n",
    "\n",
    "for model_name, model_file in models.items():\n",
    "    model_dict = joblib.load(model_file)\n",
    "    model = model_dict[\"model\"]\n",
    "    prep = model[:-1]  # all but the last pipeline steps, hence all transformers, but not the model\n",
    "    clf = model[-1]  # the actual model\n",
    "    num_cols, cat_cols = load_feature_list()\n",
    "    label = \"onderzoekswaardig\"\n",
    "    # Model scores\n",
    "    X_test[f\"{model_name}_score\"] = model.predict_proba(X_test)[:,1]\n",
    "    # Check if above theshold\n",
    "    X_test[f\"{model_name}_prediction\"] = (model.predict_proba(X_test)[:, 1] >= thr).astype('int')\n",
    "    \n",
    "models = {'model_before_reweighing':model_file_prepilot,\n",
    "          'model_after_reweighing': model_file_pilot}\n",
    "\n",
    "# X_train['onderzoekswaardig'] = y_train\n",
    "X_test['onderzoekswaardig'] = y_test\n",
    "\n",
    "from sklearn.metrics import confusion_matrix, precision_score\n",
    "\n",
    "conf_before_reweigh = confusion_matrix(X_test['onderzoekswaardig'], X_test['model_before_reweighing_prediction'])\n",
    "conf_after_reweigh = confusion_matrix(X_test['onderzoekswaardig'], X_test['model_after_reweighing_prediction'])\n",
    "\n",
    "print(\"Conf matrix before reweighing\")\n",
    "display(conf_before_reweigh)\n",
    "\n",
    "print(\"Conf matrix after reweighing\")\n",
    "display(conf_after_reweigh)\n",
    "\n",
    "print(\"Precision before reweighing\")\n",
    "# display(conf_before_reweigh[0,0]/(conf_before_reweigh[0,0]+conf_before_reweigh[0,1]))\n",
    "print(precision_score(X_test['onderzoekswaardig'], X_test['model_before_reweighing_prediction']))\n",
    "\n",
    "print(\"Precision after reweighing\")\n",
    "# display(conf_after_reweigh[0,0]/(conf_after_reweigh[0,0]+conf_after_reweigh[0,1]))\n",
    "print(precision_score(X_test['onderzoekswaardig'], X_test['model_after_reweighing_prediction']))"
   ]
  },
  {
   "cell_type": "code",
   "execution_count": null,
   "metadata": {},
   "outputs": [],
   "source": [
    "df_prepilot_merged = X_test"
   ]
  },
  {
   "cell_type": "markdown",
   "metadata": {},
   "source": [
    "## Complete / Merge data before preprocessing"
   ]
  },
  {
   "cell_type": "code",
   "execution_count": null,
   "metadata": {},
   "outputs": [],
   "source": [
    "prepilot_bias_cols = ['application_dienstnr', 'Label', 'received_same_product_last_year', \n",
    "                      'applied_for_same_product_last_year', 'days_since_last_dienst_end',\n",
    "                      'days_since_last_relocation', 'active_address_count', 'dtaanvraag', 'geslacht', 'geboortejaar',\n",
    "                      'is_parttime_parent', 'is_fulltime_parent', \n",
    "                      'onderzoekswaardig', 'model_prob', 'model_before_reweighing_score', \n",
    "        'model_before_reweighing_prediction', 'model_after_reweighing_score',\n",
    "        'model_after_reweighing_prediction',\n",
    "        'Belangrijkste feature 1', 'Belangrijkste feature 2', 'Belangrijkste feature 3']"
   ]
  },
  {
   "cell_type": "code",
   "execution_count": null,
   "metadata": {},
   "outputs": [],
   "source": [
    "df_prepilot_bias = df_prepilot_merged[prepilot_bias_cols]"
   ]
  },
  {
   "cell_type": "code",
   "execution_count": null,
   "metadata": {},
   "outputs": [],
   "source": [
    "df_prepilot_to_enrich = df_prepilot_bias[['application_dienstnr', 'dtaanvraag']]"
   ]
  },
  {
   "cell_type": "code",
   "execution_count": null,
   "metadata": {},
   "outputs": [],
   "source": [
    "# df_prepilot_to_enrich.to_csv(\"\\data\\interim_data\\Enrichment_files\\20240306_prepilot_data_verrijking.csv\")"
   ]
  },
  {
   "cell_type": "code",
   "execution_count": null,
   "metadata": {},
   "outputs": [],
   "source": [
    "df_prepilot_bias['dtaanvraag'] = pd.to_datetime(df_prepilot_bias['dtaanvraag'])"
   ]
  },
  {
   "cell_type": "code",
   "execution_count": null,
   "metadata": {},
   "outputs": [],
   "source": [
    "# # Still need to add nationality from enriched_dataset\n",
    "# df_enriched = pd.read_excel(\"\\data\\interim_data\\Enrichment_files\\20240130_Enriched_dataset.xlsx\")\n",
    "# df_enriched_prepilot = df_enriched.loc[df_enriched['LABELDATA'] == 'prepilot']\n",
    "\n",
    "# # We have new enriched dataset including the negatives\n",
    "df_enriched_prepilot = pd.read_excel(\"\\data\\interim_data\\Enrichment_files\\20240307_Enriched_dataset_prepilot.xlsx\")\n"
   ]
  },
  {
   "cell_type": "code",
   "execution_count": null,
   "metadata": {},
   "outputs": [],
   "source": [
    "# df_enriched_prepilot"
   ]
  },
  {
   "cell_type": "code",
   "execution_count": null,
   "metadata": {},
   "outputs": [],
   "source": [
    "df_enriched_prepilot = df_enriched_prepilot[['DIENSTNR', 'NATIONALITEIT1', 'NATIONALITEIT1_OMSCHRIJVING', 'DTGEBOORTE']]"
   ]
  },
  {
   "cell_type": "code",
   "execution_count": null,
   "metadata": {},
   "outputs": [],
   "source": [
    "df_prepilot_bias = pd.merge(df_prepilot_bias, df_enriched_prepilot, left_on='application_dienstnr', right_on = 'DIENSTNR', how='left')"
   ]
  },
  {
   "cell_type": "code",
   "execution_count": null,
   "metadata": {},
   "outputs": [],
   "source": [
    "# Calculate age and store the result in a new column 'Leeftijd'\n",
    "df_prepilot_bias['Leeftijd'] = np.floor((df_prepilot_bias['dtaanvraag'] - df_prepilot_bias['DTGEBOORTE']) / np.timedelta64(1, 'Y'))"
   ]
  },
  {
   "cell_type": "code",
   "execution_count": null,
   "metadata": {},
   "outputs": [],
   "source": [
    "df_prepilot_bias"
   ]
  },
  {
   "cell_type": "code",
   "execution_count": null,
   "metadata": {},
   "outputs": [],
   "source": [
    "df_prepilot_bias.to_excel(\"\\data\\processed_bias_data\\20240131_prepilot_processed.xlsx\")"
   ]
  }
 ],
 "metadata": {
  "kernelspec": {
   "display_name": ".venv",
   "language": "python",
   "name": "python3"
  },
  "language_info": {
   "codemirror_mode": {
    "name": "ipython",
    "version": 3
   },
   "file_extension": ".py",
   "mimetype": "text/x-python",
   "name": "python",
   "nbconvert_exporter": "python",
   "pygments_lexer": "ipython3",
   "version": "3.8.10"
  }
 },
 "nbformat": 4,
 "nbformat_minor": 2
}

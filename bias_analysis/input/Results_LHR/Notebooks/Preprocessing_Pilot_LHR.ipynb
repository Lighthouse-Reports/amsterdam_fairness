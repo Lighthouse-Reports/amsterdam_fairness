{
 "cells": [
  {
   "cell_type": "code",
   "execution_count": null,
   "metadata": {},
   "outputs": [],
   "source": [
    "import pandas as pd\n",
    "import pyarrow\n",
    "import os\n",
    "import sys\n",
    "module_path = os.path.abspath(os.path.join('..'))\n",
    "if module_path not in sys.path:\n",
    "    sys.path.append(module_path)\n",
    "## Import \n",
    "import numpy as np\n",
    "import pandas as pd\n",
    "import datetime as dt\n",
    "import joblib\n",
    "from collections import defaultdict\n",
    "import json\n",
    "import datetime as dt\n",
    "from pathlib import Path\n",
    "\n",
    "# To display BSNs fully\n",
    "pd.set_option(\"display.max_colwidth\", 1000)\n",
    "\n",
    "# For convenience\n",
    "pd.set_option('display.max_rows', 50)\n",
    "pd.set_option('display.max_columns', 50)\n",
    "\n",
    "import logging\n",
    "logger = logging.getLogger()\n",
    "logger.setLevel(logging.INFO)\n",
    "from wpi_uitkeringsfraude.project_paths import ARTIFACT_PATH, DATA_PATH, CONFIG_PATH, INFO_PATH\n",
    "from wpi_uitkeringsfraude.model.manage_model_info import load_feature_list\n",
    "# from wpi_uitkeringsfraude.model.build_model import filter_application_handling\n",
    "from wpi_uitkeringsfraude.settings.settings import WPISettings\n",
    "# from wpi_uitkeringsfraude.components import SocratesDienstPersoonJoin, SocratesAdresFeatures\n",
    "from wpi_uitkeringsfraude.scorer import Scorer"
   ]
  },
  {
   "cell_type": "code",
   "execution_count": null,
   "metadata": {},
   "outputs": [],
   "source": [
    "df = pd.read_excel(\"\\data\\pilot\\Pilot_BiasData20240110.xlsx\")\n",
    "# df = pd.read_excel(\"\\data\\pilot\\Pilot_BiasData20240110_fp.xlsx\", engine='calamine')\n",
    "# df = pd.read_csv(\"\\data\\pilot\\Pilot_BiasData20240110.csv\", delimiter=\";\", encoding='latin-1', dtype={'SlimmeCheck.VALUE_TOTAL_VERMOGEN':float})\n",
    "# , decimal=\",\")"
   ]
  },
  {
   "cell_type": "code",
   "execution_count": null,
   "metadata": {},
   "outputs": [],
   "source": [
    "df.loc[\n",
    "       # (df['Slimme Check'] == 'Nee')\n",
    "       # & \n",
    "       (~df['Sherlock.Resultaat onderzoek'].isna())]"
   ]
  },
  {
   "cell_type": "code",
   "execution_count": null,
   "metadata": {},
   "outputs": [],
   "source": [
    "pd.set_option(\"display.precision\", 15)"
   ]
  },
  {
   "cell_type": "code",
   "execution_count": null,
   "metadata": {},
   "outputs": [],
   "source": [
    "df.loc[(df['Index'] == 942), 'SlimmeCheck.VALUE_TOTAL_VERMOGEN']"
   ]
  },
  {
   "cell_type": "code",
   "execution_count": null,
   "metadata": {},
   "outputs": [],
   "source": [
    "df.head()"
   ]
  },
  {
   "cell_type": "code",
   "execution_count": null,
   "metadata": {},
   "outputs": [],
   "source": [
    "float(str(-141.5599979439524))"
   ]
  },
  {
   "cell_type": "code",
   "execution_count": null,
   "metadata": {},
   "outputs": [],
   "source": [
    "# set the max columns to none\n",
    "pd.set_option('display.max_columns', None)"
   ]
  },
  {
   "cell_type": "code",
   "execution_count": null,
   "metadata": {},
   "outputs": [],
   "source": [
    "# We only want the entries that have a result from HH\n",
    "df = df.loc[~df['Sherlock.Resultaat onderzoek'].isna()]"
   ]
  },
  {
   "cell_type": "code",
   "execution_count": null,
   "metadata": {},
   "outputs": [],
   "source": [
    "# Because we have no date of aanvraag in this df, we synthisize one halfway of the pilot period\n",
    "# So 15/7/2023\n",
    "df['dtaanvraag'] = pd.Timestamp('2023-07-15')"
   ]
  },
  {
   "cell_type": "code",
   "execution_count": null,
   "metadata": {},
   "outputs": [],
   "source": [
    "# Label each value (afboekcode) in Sherlock.Resultaat onderzoek with 0 (niet-onderzoekswaardig) or 1 (onderzoekswaardig) \n",
    "# These labels are defined based on Table 1 in the pre-pilot Bias Analysis documentation and after discussion with Jochem and Roland (handhaving) \n",
    "map_results_handhaving = {\n",
    "    'Geen wijziging (1)': '0',\n",
    "    'Afwijzing: geen medewerking (21)': '1',\n",
    "    'Niet onderzoekswaardig (0)': '0',\n",
    "    'Afwijzing: woon/leefsituatie (23)': '1',\n",
    "    'Geen wijziging (Rechtvaardigheid)': '1',\n",
    "    'Onjuiste opvoer (100)': '0',\n",
    "    'Afwijzing: voorliggende voorziening': '1',\n",
    "    'Wijziging: middelen (12)': '1',\n",
    "    'Wijziging: woon/leefsituatie (13)': '1',\n",
    "    'Onjuiste overdracht: retour': '0',\n",
    "    'Afwijzing: middelen (22)': '1',\n",
    "    'Niet onderzoekswaardig vooronderzoek (0)': '0'\n",
    "}\n",
    "# Create new column with results handhaving onderzoek \n",
    "df['Label'] = df['Sherlock.Resultaat onderzoek'].map(map_results_handhaving)"
   ]
  },
  {
   "cell_type": "code",
   "execution_count": null,
   "metadata": {},
   "outputs": [],
   "source": [
    "# We want onderzoekswaardig to be differently mapped\n",
    "dict_map_onderzoekswaardig = {'Onderzoekswaardig' : 1,\n",
    "                              'Niet onderzoekswaardig' : 0}\n",
    "\n",
    "df['onderzoekswaardig'] = df['Label'].replace(dict_map_onderzoekswaardig)\n",
    "\n",
    "df['onderzoekswaardig'].value_counts()"
   ]
  },
  {
   "cell_type": "code",
   "execution_count": null,
   "metadata": {},
   "outputs": [],
   "source": [
    "# # For the verrijking, only the dienstnummer and date of aanvraag are required\n",
    "# pilot_data_verrijking_20240125 = df_pilot[['SlimmeCheck.APPLICATION_DIENSTNR', 'dtaanvraag']]\n",
    "\n",
    "# # Change column names to be equal to other datasets for verrijking\n",
    "# columns_verrijking = ['application_dienstnr', 'dtaanvraag']\n",
    "# pilot_data_verrijking_20240125.columns = columns_verrijking\n",
    "\n",
    "# # Save to excel\n",
    "# # pilot_data_verrijking_20240125.to_csv('20240111_pilot_data_verrijking.csv', index=False)"
   ]
  },
  {
   "cell_type": "code",
   "execution_count": null,
   "metadata": {},
   "outputs": [],
   "source": [
    "# Sample list with initial columns\n",
    "entries = ['SlimmeCheck.VALUE_AFSPRAKEN_NO_CONTACT_COUNT_LAST_YEAR',\n",
    "       'SlimmeCheck.VALUE_APPLIED_FOR_SAME_PRODUCT_LAST_YEAR',\n",
    "       'SlimmeCheck.VALUE_TOTAL_VERMOGEN',\n",
    "       'SlimmeCheck.VALUE_DAYS_SINCE_LAST_DIENST_END',\n",
    "       'SlimmeCheck.VALUE_DAYS_SINCE_LAST_RELOCATION',\n",
    "       'SlimmeCheck.VALUE_AT_LEAST_ONE_ADDRESS_IN_AMSTERDAM',\n",
    "       'SlimmeCheck.VALUE_AFSPRAKEN_NO_SHOW_COUNT_LAST_YEAR',\n",
    "       'SlimmeCheck.VALUE_RECEIVED_SAME_PRODUCT_LAST_YEAR',\n",
    "       'SlimmeCheck.VALUE_DEELNAMES_STARTED_PERCENTAGE_LAST_YEAR',\n",
    "       'SlimmeCheck.VALUE_ACTIVE_ADDRESS_COUNT',\n",
    "       'SlimmeCheck.VALUE_HAS_PARTNER', 'SlimmeCheck.VALUE_HAS_MEDEBEWONER',\n",
    "       'SlimmeCheck.VALUE_AVG_PERCENTAGE_MAATREGEL',\n",
    "       'SlimmeCheck.VALUE_SUM_INKOMEN_BRUTO_VALUE',\n",
    "       'SlimmeCheck.VALUE_SUM_INKOMEN_BRUTO_WAS_MEAN_IMPUTED']\n",
    "\n",
    "# Creating a dictionary with original entries as keys and lowercase values after the dot\n",
    "result_dict = {entry: entry.split('VALUE_')[1].lower() for entry in entries}\n",
    "\n",
    "# Printing the resulting dictionary\n",
    "print(result_dict)"
   ]
  },
  {
   "cell_type": "code",
   "execution_count": null,
   "metadata": {},
   "outputs": [],
   "source": [
    "# We need the column names to be the same as when the model was trained for the prediction\n",
    "df = df.rename(columns = \n",
    "   result_dict\n",
    ")"
   ]
  },
  {
   "cell_type": "code",
   "execution_count": null,
   "metadata": {},
   "outputs": [],
   "source": [
    "# We need the column names to be the same as when the model was trained for the prediction\n",
    "df = df.rename(columns = \n",
    "   {\"sum_inkomen_bruto_value\":\"sum_inkomen_bruto\"}\n",
    ")"
   ]
  },
  {
   "cell_type": "code",
   "execution_count": null,
   "metadata": {},
   "outputs": [],
   "source": [
    "df['onderzoekswaardig'] = df['onderzoekswaardig'].astype(int)"
   ]
  },
  {
   "cell_type": "code",
   "execution_count": null,
   "metadata": {},
   "outputs": [],
   "source": [
    "df['total_vermogen'].info()"
   ]
  },
  {
   "cell_type": "code",
   "execution_count": null,
   "metadata": {},
   "outputs": [],
   "source": [
    "df['total_vermogen'].dtype"
   ]
  },
  {
   "cell_type": "code",
   "execution_count": null,
   "metadata": {},
   "outputs": [],
   "source": [
    "for column in df.columns:\n",
    "    if df[column].dtype == 'object':\n",
    "        print(column)"
   ]
  },
  {
   "cell_type": "code",
   "execution_count": null,
   "metadata": {},
   "outputs": [],
   "source": [
    "df['total_vermogen'].info()"
   ]
  },
  {
   "cell_type": "code",
   "execution_count": null,
   "metadata": {},
   "outputs": [],
   "source": [
    "df.loc[(df['Index'] == 942), 'total_vermogen']"
   ]
  },
  {
   "cell_type": "code",
   "execution_count": null,
   "metadata": {},
   "outputs": [],
   "source": [
    "# float_but_not_float = ['total_vermogen', 'sum_inkomen_bruto', 'deelnames_started_percentage_last_year']\n",
    "# for column in float_but_not_float:\n",
    "#     df[column] = df[column].str.replace(\",\",\".\")\n",
    "#     df[column] = pd.to_numeric(df[column])\n",
    "#     # df[column] = df[column].convert_objects(convert_numeric=True)"
   ]
  },
  {
   "cell_type": "code",
   "execution_count": null,
   "metadata": {},
   "outputs": [],
   "source": [
    "df.loc[(df['Index'] == 942), 'total_vermogen']"
   ]
  },
  {
   "cell_type": "code",
   "execution_count": null,
   "metadata": {},
   "outputs": [],
   "source": [
    "import numpy as np\n",
    "import pandas as pd\n",
    "from sklearn.model_selection import train_test_split\n",
    "from sklearn.metrics import roc_auc_score\n",
    "\n",
    "from interpret.glassbox import ExplainableBoostingClassifier\n",
    "from interpret import show\n",
    "\n",
    "# df_training = df_training.sort_values(by='dtaanvraag')\n",
    "\n",
    "# X = df.loc[:, df.columns != 'onderzoekswaardig']\n",
    "# y = df['onderzoekswaardig']\n",
    "\n",
    "seed = 42\n",
    "# np.random.seed(seed)\n",
    "X_test, y_test = df.loc[:, df.columns != 'onderzoekswaardig'], df['onderzoekswaardig']\n",
    "# X_train, X_test, y_train, y_test = train_test_split(X, y, test_size=0.15, shuffle=True, random_state=seed)\n",
    "# Load models\n",
    "model_file_prepilot = Path('\\Models\\20220523_model_used_in_prepilot.pkl')\n",
    "model_file_pilot = Path('\\Models\\20240228_wpi_model_pilot_31.pkl')\n",
    "models = {'model_before_reweighing':model_file_prepilot,\n",
    "          'model_after_reweighing': model_file_pilot}\n",
    "# Set threshold\n",
    "thr=0.63\n",
    "\n",
    "for model_name, model_file in models.items():\n",
    "    model_dict = joblib.load(model_file)\n",
    "    model = model_dict[\"model\"]\n",
    "    prep = model[:-1]  # all but the last pipeline steps, hence all transformers, but not the model\n",
    "    clf = model[-1]  # the actual model\n",
    "    num_cols, cat_cols = load_feature_list()\n",
    "    label = \"onderzoekswaardig\"\n",
    "    # Model scores\n",
    "    X_test[f\"{model_name}_score\"] = model.predict_proba(X_test)[:,1]\n",
    "    # Check if above threshold\n",
    "    X_test[f\"{model_name}_prediction\"] = (model.predict_proba(X_test)[:, 1] >= thr).astype('int')\n",
    "models = {'model_before_reweighing':model_file_prepilot,\n",
    "          'model_after_reweighing': model_file_pilot}\n",
    "\n",
    "\n",
    "# X_train['onderzoekswaardig'] = y_train\n",
    "X_test['onderzoekswaardig'] = y_test\n",
    "\n",
    "from sklearn.metrics import confusion_matrix, precision_score\n",
    "\n",
    "conf_before_reweigh = confusion_matrix(X_test['onderzoekswaardig'], X_test['model_before_reweighing_prediction'])\n",
    "conf_after_reweigh = confusion_matrix(X_test['onderzoekswaardig'], X_test['model_after_reweighing_prediction'])\n",
    "\n",
    "print(\"Conf matrix before reweighing\")\n",
    "display(conf_before_reweigh)\n",
    "\n",
    "print(\"Conf matrix after reweighing\")\n",
    "display(conf_after_reweigh)\n",
    "\n",
    "print(\"Precision before reweighing\")\n",
    "# display(conf_before_reweigh[0,0]/(conf_before_reweigh[0,0]+conf_before_reweigh[0,1]))\n",
    "print(precision_score(X_test['onderzoekswaardig'], X_test['model_before_reweighing_prediction']))\n",
    "\n",
    "print(\"Precision after reweighing\")\n",
    "# display(conf_after_reweigh[0,0]/(conf_after_reweigh[0,0]+conf_after_reweigh[0,1]))\n",
    "print(precision_score(X_test['onderzoekswaardig'], X_test['model_after_reweighing_prediction']))\n"
   ]
  },
  {
   "cell_type": "code",
   "execution_count": null,
   "metadata": {},
   "outputs": [],
   "source": [
    "df = X_test"
   ]
  },
  {
   "cell_type": "code",
   "execution_count": null,
   "metadata": {},
   "outputs": [],
   "source": [
    "X_test.head()"
   ]
  },
  {
   "cell_type": "code",
   "execution_count": null,
   "metadata": {},
   "outputs": [],
   "source": [
    "X_test[['SlimmeCheck.SCORE', 'model_after_reweighing_score']]"
   ]
  },
  {
   "cell_type": "code",
   "execution_count": null,
   "metadata": {},
   "outputs": [],
   "source": [
    "# X_test[['SlimmeCheck.SCORE', 'model_after_reweighing_score']]"
   ]
  },
  {
   "cell_type": "code",
   "execution_count": null,
   "metadata": {},
   "outputs": [],
   "source": [
    "df.loc[(df['Index'] == 942), 'total_vermogen']"
   ]
  },
  {
   "cell_type": "code",
   "execution_count": null,
   "metadata": {},
   "outputs": [],
   "source": [
    "X_test = df"
   ]
  },
  {
   "cell_type": "code",
   "execution_count": null,
   "metadata": {},
   "outputs": [],
   "source": [
    "X_test.loc[(X_test['Index'] == 942), 'total_vermogen']"
   ]
  },
  {
   "cell_type": "code",
   "execution_count": null,
   "metadata": {},
   "outputs": [],
   "source": [
    "X_test"
   ]
  },
  {
   "cell_type": "code",
   "execution_count": null,
   "metadata": {},
   "outputs": [],
   "source": [
    "X_test.loc[X_test['SlimmeCheck.SCORE'] == X_test['model_after_reweighing_score'], 'sum_inkomen_bruto'].unique()"
   ]
  },
  {
   "cell_type": "code",
   "execution_count": null,
   "metadata": {},
   "outputs": [],
   "source": [
    "for feature in X_test.columns:\n",
    "    X_test.loc[X_test['SlimmeCheck.SCORE'] == X_test['model_after_reweighing_score'], feature]"
   ]
  },
  {
   "cell_type": "code",
   "execution_count": null,
   "metadata": {},
   "outputs": [],
   "source": [
    "# df['model_prob']"
   ]
  },
  {
   "cell_type": "code",
   "execution_count": null,
   "metadata": {},
   "outputs": [],
   "source": [
    "df"
   ]
  },
  {
   "cell_type": "code",
   "execution_count": null,
   "metadata": {},
   "outputs": [],
   "source": [
    "df[['SlimmeCheck.SCORE', 'model_after_reweighing_prediction']]"
   ]
  },
  {
   "cell_type": "code",
   "execution_count": null,
   "metadata": {},
   "outputs": [],
   "source": [
    "df['Bias.Geslacht'].value_counts()"
   ]
  },
  {
   "cell_type": "code",
   "execution_count": null,
   "metadata": {},
   "outputs": [],
   "source": [
    "df.to_excel(\"\\data\\processed_bias_data\\20240131_pilot_processed.xlsx\", index=False)"
   ]
  },
  {
   "cell_type": "code",
   "execution_count": null,
   "metadata": {},
   "outputs": [],
   "source": []
  }
 ],
 "metadata": {
  "kernelspec": {
   "display_name": ".venv",
   "language": "python",
   "name": "python3"
  },
  "language_info": {
   "codemirror_mode": {
    "name": "ipython",
    "version": 3
   },
   "file_extension": ".py",
   "mimetype": "text/x-python",
   "name": "python",
   "nbconvert_exporter": "python",
   "pygments_lexer": "ipython3",
   "version": "3.8.10"
  }
 },
 "nbformat": 4,
 "nbformat_minor": 2
}

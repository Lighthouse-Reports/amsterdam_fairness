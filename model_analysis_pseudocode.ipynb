{
  "cells": [
    {
      "cell_type": "markdown",
      "metadata": {
        "id": "view-in-github",
        "colab_type": "text"
      },
      "source": [
        "<a href=\"https://colab.research.google.com/github/Lighthouse-Reports/amsterdam_fairness/blob/main/model_analysis_pseudocode.ipynb\" target=\"_parent\"><img src=\"https://colab.research.google.com/assets/colab-badge.svg\" alt=\"Open In Colab\"/></a>"
      ]
    },
    {
      "cell_type": "markdown",
      "id": "e9410810-8510-40f6-915a-431516fd1a83",
      "metadata": {
        "id": "e9410810-8510-40f6-915a-431516fd1a83"
      },
      "source": [
        "### Title: Pseudocode for Model Analysis\n",
        "\n",
        "### Authors: Tahmeed Shafiq (tahmeed@lighthousereports.com)\n",
        "\n",
        "### Last updated: 02/10/24\n",
        "\n",
        "Pseudocode and planning for how to white box the model."
      ]
    },
    {
      "cell_type": "markdown",
      "id": "c121bd97-ebdd-4598-b102-edc41438b063",
      "metadata": {
        "id": "c121bd97-ebdd-4598-b102-edc41438b063"
      },
      "source": [
        "**Setup**:<br>\n",
        "Import models as needed.<br>\n",
        "Set `warnings.filterwarnings(\"ignore\", category=FutureWarning)` to suppress dependency warnings."
      ]
    },
    {
      "cell_type": "markdown",
      "id": "248d7379-2bca-438a-a91c-73366d170b98",
      "metadata": {
        "id": "248d7379-2bca-438a-a91c-73366d170b98"
      },
      "source": [
        "**Unpickle**:<br>\n",
        "Unpickle model.<br>\n",
        "Extract all keys and parameters in case we need them later."
      ]
    },
    {
      "cell_type": "markdown",
      "id": "684aa96e-e9e6-4aa2-91b8-1345fb086254",
      "metadata": {
        "id": "684aa96e-e9e6-4aa2-91b8-1345fb086254"
      },
      "source": [
        "**Build pipeline**:<br>\n",
        "Extract pipeline from `prep` key.<br>\n",
        "Extract feature names and final class labels.<br>"
      ]
    },
    {
      "cell_type": "markdown",
      "id": "231c629b-fc0f-40f5-bb6f-ce88870e53ef",
      "metadata": {
        "id": "231c629b-fc0f-40f5-bb6f-ce88870e53ef"
      },
      "source": [
        "**Features**:<br>\n",
        "The feature descriptions are in [this spreadsheet](https://docs.google.com/spreadsheets/d/1llIYdRJwTqUrx4tISmDKI68q1Xb-DifF/edit?gid=91782168#gid=91782168).<br>\n",
        "Here's a translated version. Where no range is given, we estimate."
      ]
    },
    {
      "cell_type": "markdown",
      "id": "aaf05dc6-e034-4b56-aad2-28c5980d3eed",
      "metadata": {
        "id": "aaf05dc6-e034-4b56-aad2-28c5980d3eed"
      },
      "source": [
        "| Feature                                | Description                                                                                                                                                                                                                  | Given range | Estimated range | Note                                                 |\n",
        "| -------------------------------------- | ---------------------------------------------------------------------------------------------------------------------------------------------------------------------------------------------------------------------------- | ----------- | --------------- | ---------------------------------------------------- |\n",
        "| deelnames_started_percentage_last_year | Of all the applicant's participations (such as pathways and other instruments) in the year prior to this application, what percentage did he/she start?                                                                      |             | 0-100           | Should check if percentage is between 0-100 or 0-1.0 |\n",
        "| at_least_one_address_in_amsterdam      | Number of active addresses of the requester. Can be several, e.g. residential address and shipping address.                                                                                                                  |             | 0-3             | Is 0-3 reasonable?                                   |\n",
        "| active_address_count                   | Number of active addresses of the requester. Can be several, e.g. residential address and shipping address                                                                                                                   |             | 0-3             | Is 0-3 reasonable?                                   |\n",
        "| days_since_last_relocation             | Number of days since the applicant last moved house (based on BRP data provided). If there is no known address or only a mailing address, this feature will be populated as if the requester last moved a long time ago.<br> |             | 0-3650          | How long is \"a long time ago\"?                       |\n",
        "| days_since_last_dienst_end             | Number of days since the applicant's last shift ended. There is a maximum of 365 days of review.                                                                                                                             | 0-365       |                 |                                                      |\n",
        "| has_medebewoner                        | Does the applicant have at least 1 co-occupant? (yes/no)                                                                                                                                                                     | 0-1         |                 |                                                      |\n",
        "| avg_percentage_maatregel               | This feature indicates the average discount percentage of all measures in the year prior to application. This gives an indication of how serious the offences were.                                                          |             | 0-100           | Check percentage range                               |\n",
        "| total_vermogen                         | \"Sum of the applicant's assets (from Socrates Assets). If unknown: a power of 0 is used.<br>                                                                                                                                 |             |                 | Use income threshold to estimate                     |\n",
        "| afspraken_no_show_count_last_year      | Number of appointments with the applicant in the year preceding this application at which the applicant did not appear                                                                                                       | NA          | 0-15            | More than one a month                                |\n",
        "| has_partner                            | Does the applicant have a partner? (yes/no)                                                                                                                                                                                  | 0-1         |                 |                                                      |\n",
        "| sum_inkomen_bruto_was_mean_imputed     | The applicant's gross income is unknown; The average gross income of all applications from the dataset (yes/no) is used                                                                                                      |             |                 |                                                      |\n",
        "| applied_for_same_product_last_year     | \"Has the applicant already applied for the same product in the year prior to the application that he/she is now applying for? (yes/no)<br>                                                                                   | 0-1         |                 |                                                      |\n",
        "| received_same_product_last_year        | Has the applicant already received the same product in the year prior to the application that he/she is currently applying for? (yes/no)                                                                                     | 0-1         |                 |                                                      |\n",
        "| afspraken_no_contact_count_last_year   | \"Number of appointments with the applicant in the year prior to this application where no contact could be made or the applicant did not respond                                                                             |             | 0-15            | More than one a month                                |\n",
        "| sum_inkomen_bruto_value                | Sum of the gross amounts of all the applicant's incomes (from Socrates Income)                                                                                                                                               |             |                 | Use income threshold to estimate                     |"
      ]
    },
    {
      "cell_type": "markdown",
      "id": "5e8ed2cf-43c7-4963-8b92-a196feb20c18",
      "metadata": {
        "id": "5e8ed2cf-43c7-4963-8b92-a196feb20c18"
      },
      "source": [
        "**Synthetic data**:<br>\n",
        "Generate synthetic data using Justin's notebook from Rotterdam repo. What adjustments are needed?"
      ]
    },
    {
      "cell_type": "markdown",
      "id": "4b5b05d2-6a52-42ea-aecf-1ad2387d9a85",
      "metadata": {
        "id": "4b5b05d2-6a52-42ea-aecf-1ad2387d9a85"
      },
      "source": [
        "**Run model**:<br>\n",
        "Run model using `predict_proba`."
      ]
    }
  ],
  "metadata": {
    "kernelspec": {
      "display_name": "Python 3 (ipykernel)",
      "language": "python",
      "name": "python3"
    },
    "language_info": {
      "codemirror_mode": {
        "name": "ipython",
        "version": 3
      },
      "file_extension": ".py",
      "mimetype": "text/x-python",
      "name": "python",
      "nbconvert_exporter": "python",
      "pygments_lexer": "ipython3",
      "version": "3.12.6"
    },
    "colab": {
      "provenance": [],
      "include_colab_link": true
    }
  },
  "nbformat": 4,
  "nbformat_minor": 5
}
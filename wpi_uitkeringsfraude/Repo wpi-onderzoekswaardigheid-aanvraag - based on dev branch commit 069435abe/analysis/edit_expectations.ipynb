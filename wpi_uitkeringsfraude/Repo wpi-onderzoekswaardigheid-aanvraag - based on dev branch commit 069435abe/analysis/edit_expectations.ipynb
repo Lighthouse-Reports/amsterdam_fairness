{
 "cells": [
  {
   "cell_type": "code",
   "execution_count": null,
   "id": "a0cc0a7d",
   "metadata": {},
   "outputs": [],
   "source": [
    "import great_expectations as ge\n",
    "from wpi_onderzoekswaardigheid_aanvraag.project_paths import ARTIFACT_PATH, DATA_PATH, PACKAGE_ROOT\n",
    "from wpi_onderzoekswaardigheid_aanvraag.expectations.check_expectations import load_expectations_from_path"
   ]
  },
  {
   "cell_type": "code",
   "execution_count": null,
   "id": "4b24bde7",
   "metadata": {},
   "outputs": [],
   "source": [
    "file_path = DATA_PATH / 'transformed_data.pkl.gz'\n",
    "df = ge.read_pickle(file_path)"
   ]
  },
  {
   "cell_type": "code",
   "execution_count": null,
   "id": "e1fb7807",
   "metadata": {},
   "outputs": [],
   "source": [
    "# Load existing expectations\n",
    "EXPECTATIONS_PATH = str(PACKAGE_ROOT / \"expectations/expectations_pipeline_output.json\")\n",
    "es = load_expectations_from_path(EXPECTATIONS_PATH)\n",
    "df._expectation_suite = es"
   ]
  },
  {
   "cell_type": "code",
   "execution_count": null,
   "id": "3ac8e911",
   "metadata": {},
   "outputs": [],
   "source": [
    "for c in [\n",
    "    \"application_dienstnr\",\n",
    "    \"dtaanvraag\",\n",
    "    \"subjectnr\",\n",
    "]:\n",
    "    df.expect_column_values_to_not_be_null(c, meta={\"train_only\": False})\n",
    "df.expect_column_values_to_not_be_null(\"onderzoekswaardig\", meta={\"train_only\": True})\n",
    "df.expect_column_values_to_be_unique(\"application_dienstnr\", meta={\"train_only\": False})\n",
    "df.expect_column_mean_to_be_between(\"onderzoekswaardig\", 0.01, 0.04, meta={\"train_only\": True})\n",
    "df.expect_column_mean_to_be_between(\"afgewezen\", 0.35, 0.45, meta={\"train_only\": True})\n",
    "df.expect_column_distinct_values_to_be_in_set(\"srp_id\", [\n",
    "    734,\n",
    "    735,\n",
    "    736,\n",
    "    737,\n",
    "    738,\n",
    "    739,\n",
    "    760,\n",
    "    780,\n",
    "    781,\n",
    "    800,\n",
    "    945,\n",
    "    946,\n",
    "    947,\n",
    "    948,\n",
    "    949,\n",
    "    1048,\n",
    "    1089,\n",
    "    1090,\n",
    "    1091,\n",
    "    1124,\n",
    "    1125,\n",
    "    1126,\n",
    "], meta={\"train_only\": True})\n",
    "df.expect_column_distinct_values_to_be_in_set(\"application_productnr\", [\n",
    "    131,  # WWb/LO\n",
    "    135,  # WWb/EV\n",
    "    87,   # IOAW\n",
    "    88,   # IOAZ\n",
    "    227,  # Krediethypotheek\n",
    "], meta={\"train_only\": False})"
   ]
  },
  {
   "cell_type": "code",
   "execution_count": null,
   "id": "c367ad12",
   "metadata": {},
   "outputs": [],
   "source": [
    "es = df.get_expectation_suite(discard_failed_expectations=False)\n",
    "print(es)"
   ]
  },
  {
   "cell_type": "code",
   "execution_count": null,
   "id": "d0c78805",
   "metadata": {},
   "outputs": [],
   "source": [
    "# Save expectation suite (note: this will overwrite the existing expectations!)\n",
    "df.save_expectation_suite(EXPECTATIONS_PATH)"
   ]
  },
  {
   "cell_type": "code",
   "execution_count": null,
   "id": "55b6d631",
   "metadata": {},
   "outputs": [],
   "source": []
  }
 ],
 "metadata": {
  "kernelspec": {
   "display_name": "Python 3 (ipykernel)",
   "language": "python",
   "name": "python3"
  },
  "language_info": {
   "codemirror_mode": {
    "name": "ipython",
    "version": 3
   },
   "file_extension": ".py",
   "mimetype": "text/x-python",
   "name": "python",
   "nbconvert_exporter": "python",
   "pygments_lexer": "ipython3",
   "version": "3.7.5"
  }
 },
 "nbformat": 4,
 "nbformat_minor": 5
}

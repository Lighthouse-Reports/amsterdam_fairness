{
 "cells": [
  {
   "cell_type": "markdown",
   "metadata": {},
   "source": [
    "# Summary\n",
    "\n",
    "This notebook provides basic functionality to analyze a preprocessed dataset and a trained model."
   ]
  },
  {
   "cell_type": "markdown",
   "metadata": {},
   "source": [
    "# Import + settings"
   ]
  },
  {
   "cell_type": "code",
   "execution_count": 1,
   "metadata": {},
   "outputs": [
    {
     "data": {
      "text/html": [
       "<style>.container { width:90% !important; }</style>"
      ],
      "text/plain": [
       "<IPython.core.display.HTML object>"
      ]
     },
     "metadata": {},
     "output_type": "display_data"
    }
   ],
   "source": [
    "from IPython.display import display, HTML\n",
    "display(HTML(\"<style>.container { width:90% !important; }</style>\"))"
   ]
  },
  {
   "cell_type": "code",
   "execution_count": 2,
   "metadata": {},
   "outputs": [
    {
     "data": {
      "text/html": [
       "        <script type=\"text/javascript\">\n",
       "        window.PlotlyConfig = {MathJaxConfig: 'local'};\n",
       "        if (window.MathJax && window.MathJax.Hub && window.MathJax.Hub.Config) {window.MathJax.Hub.Config({SVG: {font: \"STIX-Web\"}});}\n",
       "        if (typeof require !== 'undefined') {\n",
       "        require.undef(\"plotly\");\n",
       "        requirejs.config({\n",
       "            paths: {\n",
       "                'plotly': ['https://cdn.plot.ly/plotly-2.14.0.min']\n",
       "            }\n",
       "        });\n",
       "        require(['plotly'], function(Plotly) {\n",
       "            window._Plotly = Plotly;\n",
       "        });\n",
       "        }\n",
       "        </script>\n",
       "        "
      ]
     },
     "metadata": {},
     "output_type": "display_data"
    }
   ],
   "source": [
    "import numpy as np\n",
    "import pandas as pd\n",
    "import datetime as dt\n",
    "import joblib\n",
    "\n",
    "import plotly.graph_objs as go\n",
    "import plotly.offline as py\n",
    "\n",
    "import matplotlib as mpl\n",
    "import matplotlib.pyplot as plt\n",
    "import matplotlib.dates as mdates\n",
    "\n",
    "import seaborn as sns\n",
    "\n",
    "plt.style.use('ggplot')\n",
    "py.init_notebook_mode(connected=True)"
   ]
  },
  {
   "cell_type": "code",
   "execution_count": 3,
   "metadata": {},
   "outputs": [
    {
     "ename": "ModuleNotFoundError",
     "evalue": "No module named 'wpi_onderzoekswaardigheid_aanvraag'",
     "output_type": "error",
     "traceback": [
      "\u001b[0;31m---------------------------------------------------------------------------\u001b[0m",
      "\u001b[0;31mModuleNotFoundError\u001b[0m                       Traceback (most recent call last)",
      "Cell \u001b[0;32mIn [3], line 1\u001b[0m\n\u001b[0;32m----> 1\u001b[0m \u001b[38;5;28;01mfrom\u001b[39;00m \u001b[38;5;21;01mwpi_onderzoekswaardigheid_aanvraag\u001b[39;00m\u001b[38;5;21;01m.\u001b[39;00m\u001b[38;5;21;01mproject_paths\u001b[39;00m \u001b[38;5;28;01mimport\u001b[39;00m ARTIFACT_PATH, DATA_PATH, CONFIG_PATH\n\u001b[1;32m      2\u001b[0m \u001b[38;5;28;01mfrom\u001b[39;00m \u001b[38;5;21;01mwpi_onderzoekswaardigheid_aanvraag\u001b[39;00m\u001b[38;5;21;01m.\u001b[39;00m\u001b[38;5;21;01mmodel\u001b[39;00m\u001b[38;5;21;01m.\u001b[39;00m\u001b[38;5;21;01mmanage_model_info\u001b[39;00m \u001b[38;5;28;01mimport\u001b[39;00m load_feature_list\n\u001b[1;32m      3\u001b[0m \u001b[38;5;28;01mfrom\u001b[39;00m \u001b[38;5;21;01mwpi_onderzoekswaardigheid_aanvraag\u001b[39;00m\u001b[38;5;21;01m.\u001b[39;00m\u001b[38;5;21;01msettings\u001b[39;00m\u001b[38;5;21;01m.\u001b[39;00m\u001b[38;5;21;01msettings\u001b[39;00m \u001b[38;5;28;01mimport\u001b[39;00m WPISettings\n",
      "\u001b[0;31mModuleNotFoundError\u001b[0m: No module named 'wpi_onderzoekswaardigheid_aanvraag'"
     ]
    }
   ],
   "source": [
    "from wpi_onderzoekswaardigheid_aanvraag.project_paths import ARTIFACT_PATH, DATA_PATH, CONFIG_PATH\n",
    "from wpi_onderzoekswaardigheid_aanvraag.model.manage_model_info import load_feature_list\n",
    "from wpi_onderzoekswaardigheid_aanvraag.settings.settings import WPISettings"
   ]
  },
  {
   "cell_type": "markdown",
   "metadata": {},
   "source": [
    "# Load model + data"
   ]
  },
  {
   "cell_type": "code",
   "execution_count": null,
   "metadata": {},
   "outputs": [],
   "source": [
    "WPISettings.set_from_yaml(CONFIG_PATH)\n",
    "\n",
    "data_file = DATA_PATH / 'transformed_data.pkl'\n",
    "model_file = ARTIFACT_PATH / 'model.pkl'\n",
    "dataset = pd.read_pickle(data_file)"
   ]
  },
  {
   "cell_type": "markdown",
   "metadata": {},
   "source": [
    "# Select relevant features"
   ]
  },
  {
   "cell_type": "code",
   "execution_count": null,
   "metadata": {},
   "outputs": [],
   "source": [
    "num_cols, cat_cols = load_feature_list()\n",
    "\n",
    "relevant_cols = [\n",
    "    \"application_dienstnr\",\n",
    "    \"onderzoekswaardig\",\n",
    "    \"is_screening_ic\", \n",
    "    \"is_screening_hh\", \n",
    "    \"is_onderzoek_hh\", \n",
    "    \"pro_id\", \n",
    "    \"pro_startdatum\", \n",
    "    \"pro_einddatum\", \n",
    "    \"afgewezen\",\n",
    "] + cat_cols + num_cols\n",
    "\n",
    "df = dataset[relevant_cols]\n",
    "\n",
    "df = df.replace(False, 0).replace(True, 1)"
   ]
  },
  {
   "cell_type": "markdown",
   "metadata": {},
   "source": [
    "# First look"
   ]
  },
  {
   "cell_type": "code",
   "execution_count": null,
   "metadata": {},
   "outputs": [],
   "source": [
    "df.head()"
   ]
  },
  {
   "cell_type": "code",
   "execution_count": null,
   "metadata": {
    "scrolled": false
   },
   "outputs": [],
   "source": [
    "df.info()"
   ]
  },
  {
   "cell_type": "markdown",
   "metadata": {},
   "source": [
    "# Screening vs. onderzoek"
   ]
  },
  {
   "cell_type": "code",
   "execution_count": null,
   "metadata": {},
   "outputs": [],
   "source": [
    "dataset[[\"is_screening_ic\", \"is_screening_hh\", \"is_onderzoek_hh\"]].mean()"
   ]
  },
  {
   "cell_type": "markdown",
   "metadata": {},
   "source": [
    "# Missing values"
   ]
  },
  {
   "cell_type": "code",
   "execution_count": null,
   "metadata": {},
   "outputs": [],
   "source": [
    "import missingno as msno\n",
    "\n",
    "msno.matrix(df=df, figsize=(20, 14), color=(0.42, 0.1, 0.05))"
   ]
  },
  {
   "cell_type": "markdown",
   "metadata": {},
   "source": [
    "# Label"
   ]
  },
  {
   "cell_type": "code",
   "execution_count": null,
   "metadata": {},
   "outputs": [],
   "source": [
    "import matplotlib as mpl"
   ]
  },
  {
   "cell_type": "code",
   "execution_count": null,
   "metadata": {},
   "outputs": [],
   "source": [
    "mpl.rcParams['font.size'] = 20"
   ]
  },
  {
   "cell_type": "code",
   "execution_count": null,
   "metadata": {},
   "outputs": [],
   "source": [
    "labels = ['niet ondzw', 'wel ondzw']\n",
    "explode = (0, 0.1)\n",
    "plt.figure(figsize=(20,10))\n",
    "plt.pie(df[\"onderzoekswaardig\"].value_counts().values, explode=explode, labels=labels, \n",
    "        autopct='%1.1f%%', shadow=False, startangle=90)\n",
    "plt.title(\"All types\")\n",
    "plt.show()"
   ]
  },
  {
   "cell_type": "code",
   "execution_count": null,
   "metadata": {},
   "outputs": [],
   "source": [
    "labels = ['niet ondzw', 'wel ondzw']\n",
    "explode = (0, 0.1)\n",
    "plt.figure(figsize=(20,10))\n",
    "plt.pie(df.loc[~df[\"is_screening_ic\"].astype(bool), \"onderzoekswaardig\"].value_counts().values, explode=explode, labels=labels, \n",
    "        autopct='%1.1f%%', shadow=False, startangle=90)\n",
    "plt.title(\"Only HH\")\n",
    "plt.show()"
   ]
  },
  {
   "cell_type": "markdown",
   "metadata": {},
   "source": [
    "# Correlation heatmap"
   ]
  },
  {
   "cell_type": "markdown",
   "metadata": {},
   "source": [
    "Note that the heatmap is best viewed in the browser as a PNG (outside Jupyter notebook), due to its size."
   ]
  },
  {
   "cell_type": "code",
   "execution_count": null,
   "metadata": {},
   "outputs": [],
   "source": [
    "mpl.rcParams['font.size'] = 14\n",
    "\n",
    "colormap = plt.cm.afmhot\n",
    "plt.figure(figsize=(50, 50))\n",
    "plt.title('Correlation of features')\n",
    "corr = df.corr()\n",
    "hm = sns.heatmap(corr,linewidths=0.1,vmax=1.0, square=True, \n",
    "            cmap=colormap, linecolor='white', annot=True, fmt=\".2f\", annot_kws={\"fontsize\":8}, mask=np.triu(corr))\n",
    "\n",
    "fig = hm.get_figure()\n",
    "fig.savefig(\"correlation_heatmap.png\") "
   ]
  },
  {
   "cell_type": "markdown",
   "metadata": {},
   "source": [
    "# Feature importance"
   ]
  },
  {
   "cell_type": "code",
   "execution_count": null,
   "metadata": {},
   "outputs": [],
   "source": [
    "model_dict = joblib.load(model_file)"
   ]
  },
  {
   "cell_type": "code",
   "execution_count": null,
   "metadata": {},
   "outputs": [],
   "source": [
    "feature_importance = model_dict['feature_importance'].sort_values(by='f_imp', ascending=False)\n",
    "feature_importance.to_csv(\"feature_importances.txt\", index=False)\n",
    "feature_importance"
   ]
  },
  {
   "cell_type": "markdown",
   "metadata": {},
   "source": [
    "# Change classification threshold"
   ]
  },
  {
   "cell_type": "code",
   "execution_count": null,
   "metadata": {},
   "outputs": [],
   "source": [
    "from fraude_preventie.evaluation.evaluation import evaluate_performance\n",
    "from wpi_onderzoekswaardigheid_aanvraag.entrypoints.train_model import _prepare_train_test_data, evaluate_model\n",
    "from wpi_onderzoekswaardigheid_aanvraag.model.build_model import filter_application_handling"
   ]
  },
  {
   "cell_type": "code",
   "execution_count": null,
   "metadata": {},
   "outputs": [],
   "source": [
    "import pprint\n",
    "pp = pprint.PrettyPrinter(indent=2)"
   ]
  },
  {
   "cell_type": "code",
   "execution_count": null,
   "metadata": {},
   "outputs": [],
   "source": [
    "model_dict = joblib.load(model_file)\n",
    "model = model_dict[\"model\"]\n",
    "prep = model.named_steps[\"prep\"]\n",
    "clf = model.named_steps[\"clf\"]"
   ]
  },
  {
   "cell_type": "code",
   "execution_count": null,
   "metadata": {
    "scrolled": true
   },
   "outputs": [],
   "source": [
    "include_handling_types = WPISettings.get_settings()[\"model\"][\"handling_types\"]\n",
    "df_hh = filter_application_handling(df, include_handling_types)\n",
    "    \n",
    "cat_cols, num_cols, X_train, y_train, X_test, y_test = _prepare_train_test_data(df_hh, \"onderzoekswaardig\")\n",
    "X = pd.concat([X_train, X_test])\n",
    "y = pd.concat([y_train, y_test])"
   ]
  },
  {
   "cell_type": "code",
   "execution_count": null,
   "metadata": {},
   "outputs": [],
   "source": [
    "thresholds = [np.round(number, 2) for number in np.linspace(0.1, 0.9, num=81)]\n",
    "\n",
    "plot_data = []\n",
    "\n",
    "predicted_probs = model.predict_proba(X_test)\n",
    "\n",
    "for thr in thresholds:\n",
    "    preds = (predicted_probs[:, 1] >= thr).astype('int')\n",
    "    perf = evaluate_performance(preds, predicted_probs[:, 1], y_test)\n",
    "    frac_pos_pred = preds.mean()\n",
    "    \n",
    "    plot_data.append({\n",
    "        \"precision\": perf[\"precision\"],\n",
    "        \"frac_pos_pred\": frac_pos_pred,\n",
    "        \"threshold\": thr,\n",
    "    })\n",
    "    \n",
    "plot_df = pd.DataFrame(plot_data)"
   ]
  },
  {
   "cell_type": "code",
   "execution_count": null,
   "metadata": {},
   "outputs": [],
   "source": [
    "ig, ax = plt.subplots(1, 1, figsize=(10,7))\n",
    "ax.plot(plot_df[\"threshold\"], plot_df[\"precision\"], color=\"blue\", marker=\"o\")\n",
    "ax.grid()\n",
    "ax.set_xlabel(\"Score threshold\")\n",
    "ax.set_ylabel(\"Hit rate/precision\", color=\"blue\")\n",
    "ax.axhline(1, color=\"black\", linestyle=\"--\", label=\"baseline\")\n",
    "ax2 = ax.twinx()\n",
    "ax2.plot(plot_df[\"threshold\"], plot_df[\"frac_pos_pred\"], color=\"orange\", marker=\"o\")\n",
    "ax2.set_ylabel(\"Fraction sent to HH\", color=\"orange\")\n",
    "ax.set_title(\"Precision vs. fraction sent to HH\")"
   ]
  },
  {
   "cell_type": "code",
   "execution_count": null,
   "metadata": {},
   "outputs": [],
   "source": [
    "X_tmp[\"afgewezen\"].mean()"
   ]
  },
  {
   "cell_type": "code",
   "execution_count": null,
   "metadata": {},
   "outputs": [],
   "source": [
    "((y_test == 0) & X_tmp[\"afgewezen\"] & (preds == 1)).sum()"
   ]
  },
  {
   "cell_type": "code",
   "execution_count": null,
   "metadata": {},
   "outputs": [],
   "source": [
    "predicted_probs = model.predict_proba(X_test)\n",
    "preds = (predicted_probs[:, 1] >= 0.54).astype('int')\n",
    "\n",
    "assert all(X_tmp.index == X_test.index)\n",
    "\n",
    "# Precision\n",
    "((preds == 1) & (y_test == 1)).sum() / (preds == 1).sum()\n",
    "\n",
    "((preds == 1) & X_tmp[\"afgewezen\"]).sum() / (preds == 1).sum()"
   ]
  },
  {
   "cell_type": "code",
   "execution_count": null,
   "metadata": {},
   "outputs": [],
   "source": [
    "((preds == 1) & (y_test == 1)).sum() / (preds == 1).sum()"
   ]
  },
  {
   "cell_type": "code",
   "execution_count": null,
   "metadata": {},
   "outputs": [],
   "source": [
    "X_tmp = pd.merge(X_test, df_hh[\"afgewezen\"], left_index=True, right_index=True)\n",
    "X_tmp[X_tmp[\"afgewezen\"] & (X_tmp[\"afgewezen\"] == y_test)]"
   ]
  },
  {
   "cell_type": "code",
   "execution_count": null,
   "metadata": {},
   "outputs": [],
   "source": [
    "plot_df[40:60]"
   ]
  },
  {
   "cell_type": "code",
   "execution_count": null,
   "metadata": {},
   "outputs": [],
   "source": [
    "bin_counts = np.histogram(predicted_probs[:, 1], bins=[0.0, 0.1, 0.2, 0.3, 0.4, 0.5, 0.6, 0.7, 0.8, 0.9, 1.0])\n",
    "counts, bins = bin_counts[0], bin_counts[1]\n",
    "perc_counts = counts / len(predicted_probs)"
   ]
  },
  {
   "cell_type": "code",
   "execution_count": null,
   "metadata": {},
   "outputs": [],
   "source": [
    "for i, b in enumerate(bins[:-1]):\n",
    "    print(f\"Score {bins[i]} - {bins[i+1]}: {perc_counts[i]*100:.2f}%\")"
   ]
  }
 ],
 "metadata": {
  "kernelspec": {
   "display_name": "Python 3 (ipykernel)",
   "language": "python",
   "name": "python3"
  },
  "language_info": {
   "codemirror_mode": {
    "name": "ipython",
    "version": 3
   },
   "file_extension": ".py",
   "mimetype": "text/x-python",
   "name": "python",
   "nbconvert_exporter": "python",
   "pygments_lexer": "ipython3",
   "version": "3.8.10"
  }
 },
 "nbformat": 4,
 "nbformat_minor": 4
}

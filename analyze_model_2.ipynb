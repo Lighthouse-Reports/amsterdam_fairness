{
 "cells": [
  {
   "cell_type": "markdown",
   "id": "1eaa0fd1-a0ac-448c-b158-ce6642f96420",
   "metadata": {},
   "source": [
    "### Title:\n",
    "\n",
    "### Authors: \n",
    "\n",
    "### Last updated:\n",
    "\n",
    "This notebook unpickles and examines the algorithm."
   ]
  },
  {
   "cell_type": "code",
   "execution_count": 2,
   "id": "bc114632-20aa-4e58-b03f-6012ad876811",
   "metadata": {},
   "outputs": [
    {
     "name": "stdout",
     "output_type": "stream",
     "text": [
      "Note: you may need to restart the kernel to use updated packages.\n"
     ]
    },
    {
     "name": "stderr",
     "output_type": "stream",
     "text": [
      "ERROR: Could not open requirements file: [Errno 2] No such file or directory: 'requirements.txt;'\n"
     ]
    }
   ],
   "source": [
    "pip install -r \"requirements.txt\""
   ]
  },
  {
   "cell_type": "code",
   "execution_count": 27,
   "id": "526668e3-1ae5-4469-be09-6329609b04f6",
   "metadata": {},
   "outputs": [],
   "source": [
    "import pickle \n",
    "import joblib as jl\n",
    "import xgboost\n",
    "import warnings\n",
    "import numpy as np\n",
    "import pandas as pd\n",
    "warnings.filterwarnings(\"ignore\", category=UserWarning)"
   ]
  },
  {
   "cell_type": "markdown",
   "id": "8f78a23e-0c57-413a-a429-1d97c2be7a3b",
   "metadata": {},
   "source": [
    "Unpickle the model and examine its basic structure."
   ]
  },
  {
   "cell_type": "code",
   "execution_count": 17,
   "id": "925ff3e5-fc18-454c-9883-37ad163f4bbe",
   "metadata": {},
   "outputs": [
    {
     "name": "stdout",
     "output_type": "stream",
     "text": [
      "The model is a \n",
      " <class 'dict'> \n",
      " with keys given by: \n",
      " dict_keys(['model', 'performance', 'bootstrapped_performance', 'train_performance', 'feature_importance', 'flags', 'feature_selection_method'])\n",
      "\n",
      " \n",
      " The parameters of the model are given by: \n",
      " {'memory': None, 'steps': [('prep', DataFrameMapper(df_out=True, drop_cols=[],\n",
      "                features=[(['active_address_count'],\n",
      "                           TransformerPipeline(steps=[('booltointtransformer',\n",
      "                                                       BoolToIntTransformer()),\n",
      "                                                      ('floattransformer',\n",
      "                                                       FloatTransformer())]),\n",
      "                           {}),\n",
      "                          (['afspraken_no_show_count_last_year'],\n",
      "                           TransformerPipeline(steps=[('booltointtransformer',\n",
      "                                                       BoolToIntTransformer()),\n",
      "                                                      ('floattransformer',\n",
      "                                                       FloatTransformer()...\n",
      "                                                      ('floattransformer',\n",
      "                                                       FloatTransformer())]),\n",
      "                           {}),\n",
      "                          (['afspraken_no_contact_count_last_year'],\n",
      "                           TransformerPipeline(steps=[('booltointtransformer',\n",
      "                                                       BoolToIntTransformer()),\n",
      "                                                      ('floattransformer',\n",
      "                                                       FloatTransformer())]),\n",
      "                           {}),\n",
      "                          (['sum_inkomen_bruto'],\n",
      "                           TransformerPipeline(steps=[('simpleimputerwithrenaming',\n",
      "                                                       SimpleImputerWithRenaming(add_indicator=True,\n",
      "                                                                                 verbose=2))]),\n",
      "                           {})],\n",
      "                input_df=True)), ('clf', GridSearchCV(cv=4, error_score='raise', estimator=EBMTransformer(n_jobs=-1),\n",
      "             n_jobs=-1,\n",
      "             param_grid={'inner_bags': [25], 'interactions': [0],\n",
      "                         'learning_rate': [0.05], 'max_bins': [1024],\n",
      "                         'max_leaves': [2], 'max_rounds': [3000],\n",
      "                         'min_samples_leaf': [4], 'outer_bags': [25]},\n",
      "             return_train_score=True, scoring='roc_auc', verbose=2))], 'verbose': False, 'prep': DataFrameMapper(df_out=True, drop_cols=[],\n",
      "                features=[(['active_address_count'],\n",
      "                           TransformerPipeline(steps=[('booltointtransformer',\n",
      "                                                       BoolToIntTransformer()),\n",
      "                                                      ('floattransformer',\n",
      "                                                       FloatTransformer())]),\n",
      "                           {}),\n",
      "                          (['afspraken_no_show_count_last_year'],\n",
      "                           TransformerPipeline(steps=[('booltointtransformer',\n",
      "                                                       BoolToIntTransformer()),\n",
      "                                                      ('floattransformer',\n",
      "                                                       FloatTransformer()...\n",
      "                                                      ('floattransformer',\n",
      "                                                       FloatTransformer())]),\n",
      "                           {}),\n",
      "                          (['afspraken_no_contact_count_last_year'],\n",
      "                           TransformerPipeline(steps=[('booltointtransformer',\n",
      "                                                       BoolToIntTransformer()),\n",
      "                                                      ('floattransformer',\n",
      "                                                       FloatTransformer())]),\n",
      "                           {}),\n",
      "                          (['sum_inkomen_bruto'],\n",
      "                           TransformerPipeline(steps=[('simpleimputerwithrenaming',\n",
      "                                                       SimpleImputerWithRenaming(add_indicator=True,\n",
      "                                                                                 verbose=2))]),\n",
      "                           {})],\n",
      "                input_df=True), 'clf': GridSearchCV(cv=4, error_score='raise', estimator=EBMTransformer(n_jobs=-1),\n",
      "             n_jobs=-1,\n",
      "             param_grid={'inner_bags': [25], 'interactions': [0],\n",
      "                         'learning_rate': [0.05], 'max_bins': [1024],\n",
      "                         'max_leaves': [2], 'max_rounds': [3000],\n",
      "                         'min_samples_leaf': [4], 'outer_bags': [25]},\n",
      "             return_train_score=True, scoring='roc_auc', verbose=2), 'prep__default': False, 'prep__df_out': True, 'prep__drop_cols': [], 'prep__features': [(['active_address_count'], TransformerPipeline(steps=[('booltointtransformer', BoolToIntTransformer()),\n",
      "                           ('floattransformer', FloatTransformer())]), {}), (['afspraken_no_show_count_last_year'], TransformerPipeline(steps=[('booltointtransformer', BoolToIntTransformer()),\n",
      "                           ('floattransformer', FloatTransformer())]), {}), (['received_same_product_last_year'], TransformerPipeline(steps=[('booltointtransformer', BoolToIntTransformer()),\n",
      "                           ('floattransformer', FloatTransformer())]), {}), (['total_vermogen'], TransformerPipeline(steps=[('booltointtransformer', BoolToIntTransformer()),\n",
      "                           ('floattransformer', FloatTransformer())]), {}), (['days_since_last_dienst_end'], TransformerPipeline(steps=[('booltointtransformer', BoolToIntTransformer()),\n",
      "                           ('floattransformer', FloatTransformer())]), {}), (['applied_for_same_product_last_year'], TransformerPipeline(steps=[('booltointtransformer', BoolToIntTransformer()),\n",
      "                           ('floattransformer', FloatTransformer())]), {}), (['at_least_one_address_in_amsterdam'], TransformerPipeline(steps=[('booltointtransformer', BoolToIntTransformer()),\n",
      "                           ('floattransformer', FloatTransformer())]), {}), (['has_medebewoner'], TransformerPipeline(steps=[('booltointtransformer', BoolToIntTransformer()),\n",
      "                           ('floattransformer', FloatTransformer())]), {}), (['has_partner'], TransformerPipeline(steps=[('booltointtransformer', BoolToIntTransformer()),\n",
      "                           ('floattransformer', FloatTransformer())]), {}), (['avg_percentage_maatregel'], TransformerPipeline(steps=[('booltointtransformer', BoolToIntTransformer()),\n",
      "                           ('floattransformer', FloatTransformer())]), {}), (['deelnames_started_percentage_last_year'], TransformerPipeline(steps=[('booltointtransformer', BoolToIntTransformer()),\n",
      "                           ('floattransformer', FloatTransformer())]), {}), (['days_since_last_relocation'], TransformerPipeline(steps=[('booltointtransformer', BoolToIntTransformer()),\n",
      "                           ('floattransformer', FloatTransformer())]), {}), (['afspraken_no_contact_count_last_year'], TransformerPipeline(steps=[('booltointtransformer', BoolToIntTransformer()),\n",
      "                           ('floattransformer', FloatTransformer())]), {}), (['sum_inkomen_bruto'], TransformerPipeline(steps=[('simpleimputerwithrenaming',\n",
      "                            SimpleImputerWithRenaming(add_indicator=True,\n",
      "                                                      verbose=2))]), {})], 'prep__input_df': True, 'prep__sparse': False, 'clf__cv': 4, 'clf__error_score': 'raise', 'clf__estimator__binning': 'quantile', 'clf__estimator__early_stopping_rounds': 50, 'clf__estimator__early_stopping_tolerance': 0.0001, 'clf__estimator__feature_names': None, 'clf__estimator__feature_types': None, 'clf__estimator__inner_bags': 0, 'clf__estimator__interactions': 10, 'clf__estimator__learning_rate': 0.01, 'clf__estimator__mains': 'all', 'clf__estimator__max_bins': 256, 'clf__estimator__max_interaction_bins': 32, 'clf__estimator__max_leaves': 3, 'clf__estimator__max_rounds': 5000, 'clf__estimator__min_samples_leaf': 2, 'clf__estimator__n_jobs': -1, 'clf__estimator__outer_bags': 8, 'clf__estimator__random_state': 42, 'clf__estimator__validation_size': 0.15, 'clf__estimator': EBMTransformer(n_jobs=-1), 'clf__n_jobs': -1, 'clf__param_grid': {'inner_bags': [25], 'interactions': [0], 'learning_rate': [0.05], 'max_bins': [1024], 'max_leaves': [2], 'max_rounds': [3000], 'min_samples_leaf': [4], 'outer_bags': [25]}, 'clf__pre_dispatch': '2*n_jobs', 'clf__refit': True, 'clf__return_train_score': True, 'clf__scoring': 'roc_auc', 'clf__verbose': 2}\n"
     ]
    }
   ],
   "source": [
    "model=jl.load(open('wpi_model.pkl','rb'))\n",
    "emb_model = model['model']\n",
    "\n",
    "print('The model is a \\n', type(model), '\\n with keys given by: \\n', model.keys())\n",
    "print('\\n \\n The parameters of the model are given by: \\n', emb_model.get_params())"
   ]
  },
  {
   "cell_type": "markdown",
   "id": "07bcf62a-fb4e-4ba4-8b69-2388aaa4c9de",
   "metadata": {},
   "source": [
    "We can see the features within the `prep` step of the pipeline. Let's extract it."
   ]
  },
  {
   "cell_type": "code",
   "execution_count": 20,
   "id": "c9a97fb3-2461-465f-86b6-db07380a93d9",
   "metadata": {},
   "outputs": [
    {
     "name": "stdout",
     "output_type": "stream",
     "text": [
      "Feature names: ['active_address_count', 'afspraken_no_show_count_last_year', 'received_same_product_last_year', 'total_vermogen', 'days_since_last_dienst_end', 'applied_for_same_product_last_year', 'at_least_one_address_in_amsterdam', 'has_medebewoner', 'has_partner', 'avg_percentage_maatregel', 'deelnames_started_percentage_last_year', 'days_since_last_relocation', 'afspraken_no_contact_count_last_year', 'sum_inkomen_bruto']\n"
     ]
    }
   ],
   "source": [
    "prep_step = emb_model.named_steps['prep']\n",
    "# Extract feature names\n",
    "emb_features = []\n",
    "for feature in prep_step.features:\n",
    "    emb_features.extend(feature[0])\n",
    "\n",
    "print(\"Feature names:\", emb_features)"
   ]
  },
  {
   "cell_type": "markdown",
   "id": "0cf5d3a9-7bc7-4488-b745-bfab7a3caef8",
   "metadata": {},
   "source": [
    "We can also read the class labels of the final predictions and match them to the documentation."
   ]
  },
  {
   "cell_type": "code",
   "execution_count": 31,
   "id": "e7482543-e218-4c67-8b07-3c5e36a70b80",
   "metadata": {},
   "outputs": [
    {
     "name": "stdout",
     "output_type": "stream",
     "text": [
      "The class labels are [0 1] which correspond to 'not onderzoekswaardig (doesn't merit further investigation)'and 'onderzoekswaardig (mertis further investigation)' respectively\n"
     ]
    }
   ],
   "source": [
    "# Access the final estimator (classifier) in the pipeline\n",
    "final_estimator = emb_model.named_steps['clf'].best_estimator_\n",
    "\n",
    "# Get the class labels\n",
    "class_labels = final_estimator.classes_\n",
    "\n",
    "print(\"The class labels are\", class_labels, \"which correspond to 'not onderzoekswaardig (doesn't merit further investigation)'and 'onderzoekswaardig (mertis further investigation)' respectively\")."
   ]
  },
  {
   "cell_type": "markdown",
   "id": "cdf6de9e-eca6-4f03-a161-784cae333f19",
   "metadata": {},
   "source": [
    "Create synthethic data corresponding to the features."
   ]
  },
  {
   "cell_type": "code",
   "execution_count": 39,
   "id": "3df75de4-3f5c-4a8d-8b33-323f6933ffca",
   "metadata": {},
   "outputs": [
    {
     "data": {
      "text/html": [
       "<div>\n",
       "<style scoped>\n",
       "    .dataframe tbody tr th:only-of-type {\n",
       "        vertical-align: middle;\n",
       "    }\n",
       "\n",
       "    .dataframe tbody tr th {\n",
       "        vertical-align: top;\n",
       "    }\n",
       "\n",
       "    .dataframe thead th {\n",
       "        text-align: right;\n",
       "    }\n",
       "</style>\n",
       "<table border=\"1\" class=\"dataframe\">\n",
       "  <thead>\n",
       "    <tr style=\"text-align: right;\">\n",
       "      <th></th>\n",
       "      <th>active_address_count</th>\n",
       "      <th>afspraken_no_show_count_last_year</th>\n",
       "      <th>received_same_product_last_year</th>\n",
       "      <th>total_vermogen</th>\n",
       "      <th>days_since_last_dienst_end</th>\n",
       "      <th>applied_for_same_product_last_year</th>\n",
       "      <th>at_least_one_address_in_amsterdam</th>\n",
       "      <th>has_medebewoner</th>\n",
       "      <th>has_partner</th>\n",
       "      <th>avg_percentage_maatregel</th>\n",
       "      <th>deelnames_started_percentage_last_year</th>\n",
       "      <th>days_since_last_relocation</th>\n",
       "      <th>afspraken_no_contact_count_last_year</th>\n",
       "      <th>sum_inkomen_bruto</th>\n",
       "    </tr>\n",
       "  </thead>\n",
       "  <tbody>\n",
       "    <tr>\n",
       "      <th>0</th>\n",
       "      <td>8284</td>\n",
       "      <td>4253</td>\n",
       "      <td>7626</td>\n",
       "      <td>7025</td>\n",
       "      <td>6511</td>\n",
       "      <td>946</td>\n",
       "      <td>8293</td>\n",
       "      <td>4746</td>\n",
       "      <td>4091</td>\n",
       "      <td>2637</td>\n",
       "      <td>1112</td>\n",
       "      <td>5296</td>\n",
       "      <td>3226</td>\n",
       "      <td>2657</td>\n",
       "    </tr>\n",
       "    <tr>\n",
       "      <th>1</th>\n",
       "      <td>1561</td>\n",
       "      <td>695</td>\n",
       "      <td>8839</td>\n",
       "      <td>1008</td>\n",
       "      <td>6435</td>\n",
       "      <td>2840</td>\n",
       "      <td>9790</td>\n",
       "      <td>542</td>\n",
       "      <td>5247</td>\n",
       "      <td>4058</td>\n",
       "      <td>6539</td>\n",
       "      <td>71</td>\n",
       "      <td>9918</td>\n",
       "      <td>9966</td>\n",
       "    </tr>\n",
       "    <tr>\n",
       "      <th>2</th>\n",
       "      <td>45</td>\n",
       "      <td>1768</td>\n",
       "      <td>9923</td>\n",
       "      <td>3321</td>\n",
       "      <td>4136</td>\n",
       "      <td>2976</td>\n",
       "      <td>5757</td>\n",
       "      <td>8186</td>\n",
       "      <td>6417</td>\n",
       "      <td>3586</td>\n",
       "      <td>8219</td>\n",
       "      <td>8116</td>\n",
       "      <td>4849</td>\n",
       "      <td>2915</td>\n",
       "    </tr>\n",
       "    <tr>\n",
       "      <th>3</th>\n",
       "      <td>2154</td>\n",
       "      <td>1514</td>\n",
       "      <td>7773</td>\n",
       "      <td>6439</td>\n",
       "      <td>159</td>\n",
       "      <td>189</td>\n",
       "      <td>6283</td>\n",
       "      <td>6684</td>\n",
       "      <td>2505</td>\n",
       "      <td>7801</td>\n",
       "      <td>215</td>\n",
       "      <td>1659</td>\n",
       "      <td>2697</td>\n",
       "      <td>2090</td>\n",
       "    </tr>\n",
       "    <tr>\n",
       "      <th>4</th>\n",
       "      <td>4171</td>\n",
       "      <td>8716</td>\n",
       "      <td>6798</td>\n",
       "      <td>646</td>\n",
       "      <td>5078</td>\n",
       "      <td>6759</td>\n",
       "      <td>67</td>\n",
       "      <td>3662</td>\n",
       "      <td>3810</td>\n",
       "      <td>7115</td>\n",
       "      <td>4501</td>\n",
       "      <td>7972</td>\n",
       "      <td>1804</td>\n",
       "      <td>5856</td>\n",
       "    </tr>\n",
       "  </tbody>\n",
       "</table>\n",
       "</div>"
      ],
      "text/plain": [
       "   active_address_count  afspraken_no_show_count_last_year  \\\n",
       "0                  8284                               4253   \n",
       "1                  1561                                695   \n",
       "2                    45                               1768   \n",
       "3                  2154                               1514   \n",
       "4                  4171                               8716   \n",
       "\n",
       "   received_same_product_last_year  total_vermogen  \\\n",
       "0                             7626            7025   \n",
       "1                             8839            1008   \n",
       "2                             9923            3321   \n",
       "3                             7773            6439   \n",
       "4                             6798             646   \n",
       "\n",
       "   days_since_last_dienst_end  applied_for_same_product_last_year  \\\n",
       "0                        6511                                 946   \n",
       "1                        6435                                2840   \n",
       "2                        4136                                2976   \n",
       "3                         159                                 189   \n",
       "4                        5078                                6759   \n",
       "\n",
       "   at_least_one_address_in_amsterdam  has_medebewoner  has_partner  \\\n",
       "0                               8293             4746         4091   \n",
       "1                               9790              542         5247   \n",
       "2                               5757             8186         6417   \n",
       "3                               6283             6684         2505   \n",
       "4                                 67             3662         3810   \n",
       "\n",
       "   avg_percentage_maatregel  deelnames_started_percentage_last_year  \\\n",
       "0                      2637                                    1112   \n",
       "1                      4058                                    6539   \n",
       "2                      3586                                    8219   \n",
       "3                      7801                                     215   \n",
       "4                      7115                                    4501   \n",
       "\n",
       "   days_since_last_relocation  afspraken_no_contact_count_last_year  \\\n",
       "0                        5296                                  3226   \n",
       "1                          71                                  9918   \n",
       "2                        8116                                  4849   \n",
       "3                        1659                                  2697   \n",
       "4                        7972                                  1804   \n",
       "\n",
       "   sum_inkomen_bruto  \n",
       "0               2657  \n",
       "1               9966  \n",
       "2               2915  \n",
       "3               2090  \n",
       "4               5856  "
      ]
     },
     "execution_count": 39,
     "metadata": {},
     "output_type": "execute_result"
    }
   ],
   "source": [
    "nrow = 10000\n",
    "Random = np.random.randint(low=1, high=10000, size=(nrow, len(emb_features)))\n",
    "df = pd.DataFrame(Random)\n",
    "df.columns = emb_features\n",
    "df.head()"
   ]
  },
  {
   "cell_type": "code",
   "execution_count": 42,
   "id": "eb5fe3b4-367d-40c3-a574-13fce0462a5d",
   "metadata": {},
   "outputs": [
    {
     "data": {
      "text/plain": [
       "array([0.26189389, 0.73810611])"
      ]
     },
     "execution_count": 42,
     "metadata": {},
     "output_type": "execute_result"
    }
   ],
   "source": [
    "emb_model.predict_proba(df)[0,:]"
   ]
  }
 ],
 "metadata": {
  "kernelspec": {
   "display_name": "Python 3.8.1",
   "language": "python",
   "name": "python3.8.1"
  },
  "language_info": {
   "codemirror_mode": {
    "name": "ipython",
    "version": 3
   },
   "file_extension": ".py",
   "mimetype": "text/x-python",
   "name": "python",
   "nbconvert_exporter": "python",
   "pygments_lexer": "ipython3",
   "version": "3.8.10"
  }
 },
 "nbformat": 4,
 "nbformat_minor": 5
}
